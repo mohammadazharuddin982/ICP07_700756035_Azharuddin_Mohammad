{
  "nbformat": 4,
  "nbformat_minor": 0,
  "metadata": {
    "colab": {
      "provenance": []
    },
    "kernelspec": {
      "name": "python3",
      "display_name": "Python 3"
    },
    "language_info": {
      "name": "python"
    }
  },
  "cells": [
    {
      "cell_type": "code",
      "execution_count": 8,
      "metadata": {
        "id": "Jo04BHgjCc9g"
      },
      "outputs": [],
      "source": [
        "import pandas as pd\n",
        "import numpy as np\n",
        "\n",
        "import matplotlib.pyplot as plt\n",
        "\n",
        "import re\n",
        "\n",
        "from sklearn.model_selection import train_test_split\n",
        "from sklearn.preprocessing import LabelEncoder\n",
        "\n",
        "# Import Tokenizer from the correct location\n",
        "from tensorflow.keras.preprocessing.text import Tokenizer\n",
        "from tensorflow.keras.preprocessing.sequence import pad_sequences\n",
        "from keras.models import Sequential\n",
        "from keras.layers import Dense, Embedding, LSTM, SpatialDropout1D\n",
        "from keras.utils import to_categorical # You might also need to change this to 'tensorflow.keras.utils'"
      ]
    },
    {
      "cell_type": "code",
      "source": [
        "data = pd.read_csv('Sentiment.csv')\n",
        "# Keeping only the neccessary columns\n",
        "data = data[['text','sentiment']]\n",
        "\n",
        "data['text'] = data['text'].apply(lambda x: x.lower())\n",
        "data['text'] = data['text'].apply((lambda x: re.sub('[^a-zA-z0-9\\s]', '', x)))\n",
        "\n",
        "for idx, row in data.iterrows():\n",
        "    row[0] = row[0].replace('rt', ' ')\n",
        "\n",
        "max_fatures = 2000\n",
        "tokenizer = Tokenizer(num_words=max_fatures, split=' ')\n",
        "tokenizer.fit_on_texts(data['text'].values)\n",
        "X = tokenizer.texts_to_sequences(data['text'].values)\n",
        "\n",
        "X = pad_sequences(X)\n",
        "\n",
        "embed_dim = 128\n",
        "lstm_out = 196\n",
        "def createmodel():\n",
        "    model = Sequential()\n",
        "    model.add(Embedding(max_fatures, embed_dim,input_length = X.shape[1]))\n",
        "    model.add(LSTM(lstm_out, dropout=0.2, recurrent_dropout=0.2))\n",
        "    model.add(Dense(3,activation='softmax'))\n",
        "    model.compile(loss = 'categorical_crossentropy', optimizer='adam',metrics = ['accuracy'])\n",
        "    return model\n",
        "# print(model.summary())\n",
        "\n",
        "labelencoder = LabelEncoder()\n",
        "integer_encoded = labelencoder.fit_transform(data['sentiment'])\n",
        "y = to_categorical(integer_encoded)\n",
        "X_train, X_test, Y_train, Y_test = train_test_split(X,y, test_size = 0.33, random_state = 42)\n",
        "\n",
        "batch_size = 32\n",
        "model = createmodel()\n",
        "model.fit(X_train, Y_train, epochs = 1, batch_size=batch_size, verbose = 2)\n",
        "score,acc = model.evaluate(X_test,Y_test,verbose=2,batch_size=batch_size)\n",
        "print(score)\n",
        "print(acc)\n",
        "print(model.metrics_names)"
      ],
      "metadata": {
        "colab": {
          "base_uri": "https://localhost:8080/"
        },
        "id": "4sHdFtRRDXz_",
        "outputId": "f07de58f-ee14-4c8b-ac5c-6df9dc5df683"
      },
      "execution_count": 9,
      "outputs": [
        {
          "output_type": "stream",
          "name": "stderr",
          "text": [
            "<ipython-input-9-18626b796642>:9: FutureWarning: Series.__getitem__ treating keys as positions is deprecated. In a future version, integer keys will always be treated as labels (consistent with DataFrame behavior). To access a value by position, use `ser.iloc[pos]`\n",
            "  row[0] = row[0].replace('rt', ' ')\n",
            "<ipython-input-9-18626b796642>:9: FutureWarning: Series.__setitem__ treating keys as positions is deprecated. In a future version, integer keys will always be treated as labels (consistent with DataFrame behavior). To set a value by position, use `ser.iloc[pos] = value`\n",
            "  row[0] = row[0].replace('rt', ' ')\n"
          ]
        },
        {
          "output_type": "stream",
          "name": "stdout",
          "text": [
            "291/291 - 50s - loss: 0.8257 - accuracy: 0.6412 - 50s/epoch - 173ms/step\n",
            "144/144 - 3s - loss: 0.7630 - accuracy: 0.6750 - 3s/epoch - 23ms/step\n",
            "0.7629973292350769\n",
            "0.6749672293663025\n",
            "['loss', 'accuracy']\n"
          ]
        }
      ]
    },
    {
      "cell_type": "code",
      "source": [
        "model.save('sentimentAnalysis.h5')"
      ],
      "metadata": {
        "id": "A0zwhidsEwlT"
      },
      "execution_count": 10,
      "outputs": []
    },
    {
      "cell_type": "code",
      "source": [
        "from keras.models import load_model\n",
        "model= load_model('sentimentAnalysis.h5')\n",
        "print(integer_encoded)\n",
        "print(data['sentiment'])"
      ],
      "metadata": {
        "colab": {
          "base_uri": "https://localhost:8080/"
        },
        "id": "x4X08e4vE8g-",
        "outputId": "fedd247d-348a-43d2-a2d6-8076fdf0cf88"
      },
      "execution_count": 11,
      "outputs": [
        {
          "output_type": "stream",
          "name": "stdout",
          "text": [
            "[1 2 1 ... 2 0 2]\n",
            "0         Neutral\n",
            "1        Positive\n",
            "2         Neutral\n",
            "3        Positive\n",
            "4        Positive\n",
            "           ...   \n",
            "13866    Negative\n",
            "13867    Positive\n",
            "13868    Positive\n",
            "13869    Negative\n",
            "13870    Positive\n",
            "Name: sentiment, Length: 13871, dtype: object\n"
          ]
        }
      ]
    },
    {
      "cell_type": "code",
      "source": [
        "sentence = ['A lot of good things are happening. We are respected again throughout the world, and that is a great thing.@realDonaldTrump']\n",
        "sentence = tokenizer.texts_to_sequences(sentence)\n",
        "sentence = pad_sequences(sentence, maxlen=28, dtype='int32', value=0)\n",
        "sentiment_probs = model.predict(sentence, batch_size=1, verbose=2)[0]\n",
        "sentiment = np.argmax(sentiment_probs)\n",
        "\n",
        "print(sentiment_probs)\n",
        "if sentiment == 0:\n",
        "    print(\"Neutral\")\n",
        "elif sentiment < 0:\n",
        "    print(\"Negative\")\n",
        "elif sentiment > 0:\n",
        "    print(\"Positive\")\n",
        "else:\n",
        "    print(\"Cannot be determined\")"
      ],
      "metadata": {
        "colab": {
          "base_uri": "https://localhost:8080/"
        },
        "id": "DBxhL-oYFDZ3",
        "outputId": "6269bbba-61c9-4a63-b6a6-c1ae5cba7a16"
      },
      "execution_count": 12,
      "outputs": [
        {
          "output_type": "stream",
          "name": "stdout",
          "text": [
            "1/1 - 0s - 312ms/epoch - 312ms/step\n",
            "[0.6675336  0.10805168 0.22441477]\n",
            "Neutral\n"
          ]
        }
      ]
    },
    {
      "cell_type": "markdown",
      "source": [
        "2. Apply GridSearchCV on the source code provided in the class"
      ],
      "metadata": {
        "id": "SdMNkPhdFKFk"
      }
    },
    {
      "cell_type": "code",
      "source": [
        "import pandas as pd\n",
        "from keras.wrappers.scikit_learn import KerasClassifier\n",
        "from sklearn.model_selection import GridSearchCV\n",
        "from sklearn.model_selection import train_test_split\n",
        "from sklearn.preprocessing import LabelEncoder\n",
        "\n",
        "data = pd.read_csv('Sentiment.csv')\n",
        "target = data['sentiment']\n",
        "features = data[['sentiment']]\n",
        "\n",
        "# Initialize LabelEncoder\n",
        "label_encoder = LabelEncoder()\n",
        "\n",
        "# Fit and transform the target variable\n",
        "target = label_encoder.fit_transform(target)\n",
        "\n",
        "# Fit and transform the features\n",
        "features['sentiment'] = label_encoder.fit_transform(features['sentiment'])\n",
        "\n",
        "model = KerasClassifier(build_fn=createmodel,verbose=2)\n",
        "batch_size= [10, 20, 40]\n",
        "epochs = [1, 2]\n",
        "param_grid= {'batch_size':batch_size, 'epochs':epochs}\n",
        "grid  = GridSearchCV(estimator=model, param_grid=param_grid)\n",
        "\n",
        "# Split your data into training and testing sets using the selected features\n",
        "X_train, X_test, Y_train, Y_test = train_test_split(features, target, test_size=0.2, random_state=42)\n",
        "\n",
        "# Convert features to float32 before fitting\n",
        "X_train = X_train.astype('float32')\n",
        "X_test = X_test.astype('float32')\n",
        "\n",
        "grid_result= grid.fit(X_train,Y_train)\n",
        "\n",
        "print(\"Best: %f using %s\" % (grid_result.best_score_, grid_result.best_params_))"
      ],
      "metadata": {
        "colab": {
          "base_uri": "https://localhost:8080/"
        },
        "id": "ZbxtRNLwU7-r",
        "outputId": "22356f56-20d7-47bc-df98-829cff420014"
      },
      "execution_count": 20,
      "outputs": [
        {
          "output_type": "stream",
          "name": "stderr",
          "text": [
            "<ipython-input-20-91fb039f2583>:29: SettingWithCopyWarning: \n",
            "A value is trying to be set on a copy of a slice from a DataFrame.\n",
            "Try using .loc[row_indexer,col_indexer] = value instead\n",
            "\n",
            "See the caveats in the documentation: https://pandas.pydata.org/pandas-docs/stable/user_guide/indexing.html#returning-a-view-versus-a-copy\n",
            "  features['sentiment'] = label_encoder.fit_transform(features['sentiment'])\n",
            "<ipython-input-20-91fb039f2583>:31: DeprecationWarning: KerasClassifier is deprecated, use Sci-Keras (https://github.com/adriangb/scikeras) instead. See https://www.adriangb.com/scikeras/stable/migration.html for help migrating.\n",
            "  model = KerasClassifier(build_fn=createmodel,verbose=2)\n"
          ]
        },
        {
          "output_type": "stream",
          "name": "stdout",
          "text": [
            "888/888 - 15s - loss: 0.0401 - accuracy: 0.9991 - 15s/epoch - 17ms/step\n",
            "222/222 - 1s - loss: 9.0246e-05 - accuracy: 1.0000 - 1s/epoch - 5ms/step\n",
            "888/888 - 16s - loss: 0.0411 - accuracy: 0.9971 - 16s/epoch - 18ms/step\n",
            "222/222 - 1s - loss: 8.3490e-05 - accuracy: 1.0000 - 739ms/epoch - 3ms/step\n",
            "888/888 - 16s - loss: 0.0418 - accuracy: 0.9979 - 16s/epoch - 18ms/step\n",
            "222/222 - 1s - loss: 9.1541e-05 - accuracy: 1.0000 - 729ms/epoch - 3ms/step\n",
            "888/888 - 14s - loss: 0.0408 - accuracy: 0.9985 - 14s/epoch - 16ms/step\n",
            "222/222 - 1s - loss: 8.4153e-05 - accuracy: 1.0000 - 1s/epoch - 5ms/step\n",
            "888/888 - 17s - loss: 0.0408 - accuracy: 0.9971 - 17s/epoch - 20ms/step\n",
            "222/222 - 1s - loss: 8.5669e-05 - accuracy: 1.0000 - 722ms/epoch - 3ms/step\n",
            "Epoch 1/2\n",
            "888/888 - 17s - loss: 0.0413 - accuracy: 0.9979 - 17s/epoch - 19ms/step\n",
            "Epoch 2/2\n",
            "888/888 - 12s - loss: 4.8897e-05 - accuracy: 1.0000 - 12s/epoch - 13ms/step\n",
            "222/222 - 1s - loss: 2.1690e-05 - accuracy: 1.0000 - 719ms/epoch - 3ms/step\n",
            "Epoch 1/2\n",
            "888/888 - 16s - loss: 0.0431 - accuracy: 0.9958 - 16s/epoch - 18ms/step\n",
            "Epoch 2/2\n",
            "888/888 - 12s - loss: 4.9482e-05 - accuracy: 1.0000 - 12s/epoch - 13ms/step\n",
            "222/222 - 1s - loss: 2.2219e-05 - accuracy: 1.0000 - 726ms/epoch - 3ms/step\n",
            "Epoch 1/2\n",
            "888/888 - 16s - loss: 0.0426 - accuracy: 0.9975 - 16s/epoch - 18ms/step\n",
            "Epoch 2/2\n",
            "888/888 - 13s - loss: 5.0167e-05 - accuracy: 1.0000 - 13s/epoch - 14ms/step\n",
            "222/222 - 1s - loss: 2.3113e-05 - accuracy: 1.0000 - 855ms/epoch - 4ms/step\n",
            "Epoch 1/2\n",
            "888/888 - 15s - loss: 0.0408 - accuracy: 0.9992 - 15s/epoch - 17ms/step\n",
            "Epoch 2/2\n",
            "888/888 - 12s - loss: 4.5749e-05 - accuracy: 1.0000 - 12s/epoch - 14ms/step\n",
            "222/222 - 1s - loss: 2.0208e-05 - accuracy: 1.0000 - 714ms/epoch - 3ms/step\n",
            "Epoch 1/2\n",
            "888/888 - 15s - loss: 0.0417 - accuracy: 0.9980 - 15s/epoch - 17ms/step\n",
            "Epoch 2/2\n",
            "888/888 - 12s - loss: 5.0394e-05 - accuracy: 1.0000 - 12s/epoch - 13ms/step\n",
            "222/222 - 1s - loss: 2.2490e-05 - accuracy: 1.0000 - 1s/epoch - 5ms/step\n",
            "444/444 - 8s - loss: 0.0789 - accuracy: 0.9962 - 8s/epoch - 19ms/step\n",
            "111/111 - 1s - loss: 3.1217e-04 - accuracy: 1.0000 - 564ms/epoch - 5ms/step\n",
            "444/444 - 11s - loss: 0.0790 - accuracy: 0.9917 - 11s/epoch - 24ms/step\n",
            "111/111 - 1s - loss: 3.0371e-04 - accuracy: 1.0000 - 593ms/epoch - 5ms/step\n",
            "444/444 - 10s - loss: 0.0796 - accuracy: 0.9976 - 10s/epoch - 23ms/step\n",
            "111/111 - 1s - loss: 3.0817e-04 - accuracy: 1.0000 - 943ms/epoch - 8ms/step\n",
            "444/444 - 10s - loss: 0.0785 - accuracy: 0.9961 - 10s/epoch - 22ms/step\n",
            "111/111 - 1s - loss: 2.8803e-04 - accuracy: 1.0000 - 568ms/epoch - 5ms/step\n",
            "444/444 - 11s - loss: 0.0792 - accuracy: 0.9964 - 11s/epoch - 25ms/step\n",
            "111/111 - 1s - loss: 3.2426e-04 - accuracy: 1.0000 - 630ms/epoch - 6ms/step\n",
            "Epoch 1/2\n",
            "444/444 - 10s - loss: 0.0786 - accuracy: 0.9943 - 10s/epoch - 23ms/step\n",
            "Epoch 2/2\n",
            "444/444 - 5s - loss: 1.6401e-04 - accuracy: 1.0000 - 5s/epoch - 12ms/step\n",
            "111/111 - 1s - loss: 7.8663e-05 - accuracy: 1.0000 - 545ms/epoch - 5ms/step\n",
            "Epoch 1/2\n",
            "444/444 - 10s - loss: 0.0829 - accuracy: 0.9967 - 10s/epoch - 23ms/step\n",
            "Epoch 2/2\n",
            "444/444 - 5s - loss: 1.7222e-04 - accuracy: 1.0000 - 5s/epoch - 12ms/step\n",
            "111/111 - 1s - loss: 8.2790e-05 - accuracy: 1.0000 - 537ms/epoch - 5ms/step\n",
            "Epoch 1/2\n",
            "444/444 - 10s - loss: 0.0802 - accuracy: 0.9937 - 10s/epoch - 23ms/step\n",
            "Epoch 2/2\n",
            "444/444 - 5s - loss: 1.7297e-04 - accuracy: 1.0000 - 5s/epoch - 12ms/step\n",
            "111/111 - 1s - loss: 8.4922e-05 - accuracy: 1.0000 - 531ms/epoch - 5ms/step\n",
            "Epoch 1/2\n",
            "444/444 - 11s - loss: 0.0779 - accuracy: 0.9993 - 11s/epoch - 24ms/step\n",
            "Epoch 2/2\n",
            "444/444 - 7s - loss: 1.6281e-04 - accuracy: 1.0000 - 7s/epoch - 16ms/step\n",
            "111/111 - 1s - loss: 7.6852e-05 - accuracy: 1.0000 - 570ms/epoch - 5ms/step\n",
            "Epoch 1/2\n",
            "444/444 - 10s - loss: 0.0801 - accuracy: 0.9926 - 10s/epoch - 23ms/step\n",
            "Epoch 2/2\n",
            "444/444 - 5s - loss: 1.7286e-04 - accuracy: 1.0000 - 5s/epoch - 12ms/step\n",
            "111/111 - 1s - loss: 8.3104e-05 - accuracy: 1.0000 - 577ms/epoch - 5ms/step\n",
            "222/222 - 8s - loss: 0.1550 - accuracy: 0.9838 - 8s/epoch - 35ms/step\n",
            "56/56 - 0s - loss: 0.0010 - accuracy: 1.0000 - 485ms/epoch - 9ms/step\n",
            "222/222 - 7s - loss: 0.1556 - accuracy: 0.9830 - 7s/epoch - 32ms/step\n",
            "56/56 - 1s - loss: 0.0010 - accuracy: 1.0000 - 760ms/epoch - 14ms/step\n",
            "222/222 - 7s - loss: 0.1541 - accuracy: 0.9863 - 7s/epoch - 32ms/step\n",
            "56/56 - 1s - loss: 0.0011 - accuracy: 1.0000 - 522ms/epoch - 9ms/step\n",
            "222/222 - 8s - loss: 0.1494 - accuracy: 0.9953 - 8s/epoch - 35ms/step\n",
            "56/56 - 0s - loss: 9.5393e-04 - accuracy: 1.0000 - 466ms/epoch - 8ms/step\n",
            "222/222 - 8s - loss: 0.1536 - accuracy: 0.9948 - 8s/epoch - 35ms/step\n",
            "56/56 - 0s - loss: 0.0010 - accuracy: 1.0000 - 486ms/epoch - 9ms/step\n",
            "Epoch 1/2\n",
            "222/222 - 6s - loss: 0.1564 - accuracy: 0.9897 - 6s/epoch - 28ms/step\n",
            "Epoch 2/2\n",
            "222/222 - 4s - loss: 6.0396e-04 - accuracy: 1.0000 - 4s/epoch - 16ms/step\n",
            "56/56 - 1s - loss: 3.0339e-04 - accuracy: 1.0000 - 706ms/epoch - 13ms/step\n",
            "Epoch 1/2\n",
            "222/222 - 6s - loss: 0.1566 - accuracy: 0.9861 - 6s/epoch - 28ms/step\n",
            "Epoch 2/2\n",
            "222/222 - 3s - loss: 5.9709e-04 - accuracy: 1.0000 - 3s/epoch - 14ms/step\n",
            "56/56 - 0s - loss: 2.9620e-04 - accuracy: 1.0000 - 467ms/epoch - 8ms/step\n",
            "Epoch 1/2\n",
            "222/222 - 6s - loss: 0.1599 - accuracy: 0.9869 - 6s/epoch - 28ms/step\n",
            "Epoch 2/2\n",
            "222/222 - 3s - loss: 6.2620e-04 - accuracy: 1.0000 - 3s/epoch - 16ms/step\n",
            "56/56 - 0s - loss: 3.1835e-04 - accuracy: 1.0000 - 474ms/epoch - 8ms/step\n",
            "Epoch 1/2\n",
            "222/222 - 11s - loss: 0.1575 - accuracy: 0.9885 - 11s/epoch - 48ms/step\n",
            "Epoch 2/2\n",
            "222/222 - 3s - loss: 5.8291e-04 - accuracy: 1.0000 - 3s/epoch - 14ms/step\n",
            "56/56 - 1s - loss: 2.8532e-04 - accuracy: 1.0000 - 520ms/epoch - 9ms/step\n",
            "Epoch 1/2\n",
            "222/222 - 7s - loss: 0.1541 - accuracy: 0.9973 - 7s/epoch - 29ms/step\n",
            "Epoch 2/2\n",
            "222/222 - 5s - loss: 5.7930e-04 - accuracy: 1.0000 - 5s/epoch - 21ms/step\n",
            "56/56 - 0s - loss: 2.8872e-04 - accuracy: 1.0000 - 467ms/epoch - 8ms/step\n",
            "1110/1110 - 18s - loss: 0.0345 - accuracy: 0.9978 - 18s/epoch - 16ms/step\n",
            "Best: 1.000000 using {'batch_size': 10, 'epochs': 1}\n"
          ]
        }
      ]
    }
  ]
}